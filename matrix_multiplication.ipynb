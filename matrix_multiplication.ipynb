{
 "cells": [
  {
   "cell_type": "code",
   "execution_count": 4,
   "metadata": {},
   "outputs": [],
   "source": [
    "import time\n",
    "import numpy as np"
   ]
  },
  {
   "cell_type": "code",
   "execution_count": 5,
   "metadata": {},
   "outputs": [
    {
     "name": "stdout",
     "output_type": "stream",
     "text": [
      "--- 0.944941520690918 seconds ---\n",
      "--- 0.0 seconds ---\n",
      "[[ 5  8 11 ... 14  6 11]\n",
      " [ 9  0  9 ... 11 19  8]\n",
      " [17  2 17 ...  9  5  4]\n",
      " ...\n",
      " [16  3  7 ... 12  4 14]\n",
      " [ 6  0 17 ...  1 12 11]\n",
      " [16  4 10 ...  5  5 11]]\n",
      "[[19  4 14 ... 12 17  5]\n",
      " [ 8  2 17 ... 19  6 10]\n",
      " [16 18  3 ...  2  4 10]\n",
      " ...\n",
      " [10 11  4 ...  2 14 19]\n",
      " [13  7 17 ... 17 19  5]\n",
      " [17 16  3 ...  7  5 16]]\n",
      "[[ 9900.  9454.  8472. ...  8815.  9395.  8679.]\n",
      " [ 8913.  7967.  6623. ...  7212.  7748.  7131.]\n",
      " [ 9971.  9067.  8028. ...  8392.  9221.  8309.]\n",
      " ...\n",
      " [ 9984.  8973.  8334. ...  8252.  8852.  8355.]\n",
      " [ 9800.  9418.  8846. ...  8700.  8846.  8430.]\n",
      " [10124.  8799.  7571. ...  8681.  9016.  7807.]]\n"
     ]
    }
   ],
   "source": [
    "G = np.random.randint(20, size=(100,100))\n",
    "H = np.random.randint(20, size=(100,100))\n",
    "a = len(G)\n",
    "d = int(a/2)\n",
    "row_factor=np.zeros(a)\n",
    "column_factor = np.zeros(a)\n",
    "R = np.zeros((a,a))\n",
    "my_start_time = time.time()\n",
    "#Custom multiplication\n",
    "for i in range(a):\n",
    "    row_factor[i] = G[i][0] * G[i][1]\n",
    "    for j in range(1, d):\n",
    "        row_factor[i] += G[i][2*j - 1] * G[i][2*j]\n",
    "for i in range(a):\n",
    "    column_factor[i] = H[0][i] * H[1][i]\n",
    "    for j in range(1,d):\n",
    "        column_factor[i] += H[2*j - 1][i] * H[2*j][i]\n",
    "for i in range(a):\n",
    "    for j in range(a):\n",
    "        R[i][j] = -(row_factor[i] + column_factor[j])\n",
    "        for k in range(d):\n",
    "            R[i][j] += (G[i][2*k-1]+H[2*k][j])*(G[i][2*k] + H[2*k-1][j])            \n",
    "if (2 * (a/2)!= a):\n",
    "    for i in range(a):\n",
    "        for j in range(a):\n",
    "            R[i][j] += G[i][b] * H[b][j]\n",
    "print(\"--- %s seconds ---\" % (time.time() - my_start_time))\n",
    "dot_start_time = time.time()\n",
    "#numpy multiplication\n",
    "RR = np.dot(G,H)\n",
    "print(\"--- %s seconds ---\" % (time.time() - dot_start_time))\n",
    "\n",
    "print(G)\n",
    "print(H)\n",
    "print(R)"
   ]
  },
  {
   "cell_type": "code",
   "execution_count": null,
   "metadata": {},
   "outputs": [],
   "source": []
  }
 ],
 "metadata": {
  "kernelspec": {
   "display_name": "Python 3",
   "language": "python",
   "name": "python3"
  },
  "language_info": {
   "codemirror_mode": {
    "name": "ipython",
    "version": 3
   },
   "file_extension": ".py",
   "mimetype": "text/x-python",
   "name": "python",
   "nbconvert_exporter": "python",
   "pygments_lexer": "ipython3",
   "version": "3.7.4"
  }
 },
 "nbformat": 4,
 "nbformat_minor": 2
}
