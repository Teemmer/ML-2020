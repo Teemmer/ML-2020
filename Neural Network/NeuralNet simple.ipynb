{
 "cells": [
  {
   "cell_type": "markdown",
   "metadata": {},
   "source": [
    "В цій практичній роботі ми спробуємо реалізувати нейронну мережу з двох шарів (прихований і вихідний). Запропонований підхід стане заготовкою для реалізації наступних оптимізацій: MBGD, ADAM та регуляризації. \n",
    "\n",
    "Сьогодні ж вам пропонується додати до цього класу підтримку довільної кількості шарів та нейронів в них (наприклад, передавати їх параметром в конструктор, як це робиться в MLPClassifier за допомогою hidden_layer_sizes). Також потрібно передбачити можливість ранньої зупинки ітераційного процесу, якщо значення штрафної функції не покращуватиметься протягом певної кількості ітерацій. Наприклад, якщо протягом $k$ ітерацій штрафна функція за модулем не стане меншою, ніж на поточному кроці."
   ]
  },
  {
   "cell_type": "code",
   "execution_count": 1,
   "metadata": {},
   "outputs": [],
   "source": [
    "import numpy as np\n",
    "import pandas as pd\n",
    "from sklearn.model_selection import train_test_split\n",
    "from mpl_toolkits.mplot3d import Axes3D\n",
    "import matplotlib.pyplot as plt\n",
    "\n",
    "from matplotlib.colors import ListedColormap\n",
    "cm_bright = ListedColormap(['#FF0000', '#0000FF'])\n",
    "%matplotlib inline\n",
    "from sklearn.metrics import accuracy_score\n",
    "\n",
    "import sklearn.linear_model"
   ]
  },
  {
   "cell_type": "code",
   "execution_count": 2,
   "metadata": {},
   "outputs": [],
   "source": [
    "def plot_surface(cls, x_1, x_2, ax=None, threshold=0.5, contourf=False):\n",
    "    xx1, xx2 = np.meshgrid(np.linspace(x_1.min(), x_1.max(), 100), \n",
    "                           np.linspace(x_2.min(), x_2.max(), 100))\n",
    "\n",
    "    X_pred = np.c_[xx1.ravel(), xx2.ravel()]\n",
    "    pred = cls.predict_proba(X_pred)[:, 0]\n",
    "    Z = pred.reshape((100, 100))\n",
    "    if ax is None:\n",
    "        ax = plt.gca()\n",
    "    ax.contour(xx1, xx2, Z, levels=[threshold], colors='black')\n",
    "    ax.set_xlim((x_1.min(), x_1.max()))\n",
    "    ax.set_ylim((x_2.min(), x_2.max()))"
   ]
  },
  {
   "cell_type": "code",
   "execution_count": 3,
   "metadata": {},
   "outputs": [],
   "source": [
    "def plot_data(X, y):\n",
    "    ax = plt.gca()\n",
    "    ax.scatter(X[:,0], X[:,1], c=(y == 1), cmap=cm_bright)"
   ]
  },
  {
   "cell_type": "code",
   "execution_count": 342,
   "metadata": {},
   "outputs": [],
   "source": [
    "class NeuralNet:\n",
    "    \"\"\"\n",
    "    NN for binary classification\n",
    "    Attributes:\n",
    "    ...\n",
    "    \"\"\"\n",
    "    def __init__(self, accuracy, hidden_layer_sizes, normalize = True, learning_rate = 0.01, num_iter = 30000):\n",
    "        self.learning_rate = learning_rate\n",
    "        self.num_iter = num_iter\n",
    "        self.normalize = normalize\n",
    "        self.accuracy = accuracy\n",
    "        self.hidden_layer_sizes = hidden_layer_sizes\n",
    "        self.n_layers = len(hidden_layer_sizes) + 1\n",
    "    \n",
    "    def __normalize(self, X, mean = None, std = None):\n",
    "        \"\"\"\n",
    "        Зверніть увагу, що нормалізація вхідних даних є дуже важливою для швидкодії нейронних мереж.\n",
    "        \"\"\"\n",
    "        n = X.shape[0]\n",
    "        m = mean\n",
    "        if m is None:\n",
    "            m = np.mean(X, axis=1).reshape((n, 1))\n",
    "        s = std\n",
    "        if s is None:\n",
    "            s = np.std(X, axis=1).reshape((n, 1))\n",
    "        X_new = (X - m) / s**2\n",
    "        return X_new, m, s\n",
    "\n",
    "    def __sigmoid(self, Z):\n",
    "        \"\"\"\n",
    "        В наступних практичних потрібно буде додати підтримку й інших активаційних функцій - це один з гіперпараметрів. \n",
    "        Їх можна вибирати для всіх шарів одночасно або мати різні активаційні функції на кожному з них.\n",
    "        \"\"\"\n",
    "        return 1 / (1 + np.exp(-Z))\n",
    "    \n",
    "    def __initialize_parameters(self, n_x):\n",
    "        W = list()\n",
    "        b = list()\n",
    "        \n",
    "        h = list(self.hidden_layer_sizes)\n",
    "        h.insert(0, n_x)\n",
    "        h.append(1)\n",
    "        hidden_layers = tuple(h)\n",
    "        \n",
    "        for i in range(1, self.n_layers+1):\n",
    "            W.append(np.random.randn(hidden_layers[i], hidden_layers[i-1]) * 0.01)\n",
    "            b.append(np.zeros((hidden_layers[i], 1)))\n",
    "\n",
    "        self.parameters = {\"W\" : W, \"b\" : b}\n",
    "                    \n",
    "    def __forward_propagation(self, X):\n",
    "        W = self.parameters[\"W\"]\n",
    "        b = self.parameters[\"b\"]\n",
    "\n",
    "        A = []\n",
    "        Z = []\n",
    "        \n",
    "        for i in range(0, self.n_layers):\n",
    "            if i == 0:\n",
    "                Z.append(np.dot(W[i], X) + b[i])\n",
    "            else:\n",
    "                Z.append(np.dot(W[i], A[i-1]) + b[i])\n",
    "            A.append(self.__sigmoid(Z[i]))\n",
    "                       \n",
    "        cache = (W, b, Z, A)\n",
    "\n",
    "        return A[-1], cache\n",
    "    \n",
    "    def compute_cost(self, A, Y):\n",
    "        m = Y.shape[1]\n",
    "        res = Y * np.log(A) + (1 - Y) * np.log(1 - A)\n",
    "        J = -(1 / m) * np.sum(res)\n",
    "        return J\n",
    "        \n",
    "    def __backward_propagation(self, X, Y, cache):\n",
    "        m = X.shape[1]\n",
    "        n = X.shape[0]\n",
    "        (W, b, Z, A) = cache\n",
    "        \n",
    "        dW = [None] * (self.n_layers)\n",
    "        dA = [None] * (self.n_layers)\n",
    "        dZ = [None] * (self.n_layers)\n",
    "        db = [None] * (self.n_layers)\n",
    "        \n",
    "        dZ[-1] = (A[-1] - Y)\n",
    "        dW[-1] = (1. / m * np.dot(dZ[-1], A[-2].T))\n",
    "        db[-1] = (1. / m * np.sum(dZ[-1], axis = 1, keepdims = True))\n",
    "        \n",
    "        for i in range(self.n_layers-1, 0, -1):\n",
    "            dA[i-1] = np.dot(W[i].T, dZ[i])\n",
    "            dZ[i-1] = np.multiply(dA[i-1], np.multiply(A[i-1], 1 - A[i-1]))\n",
    "            if i-1 == 0:\n",
    "                dW[i-1] = 1. / m * np.dot(dZ[i-1], X.T)\n",
    "            else:\n",
    "                dW[i-1] = 1. / m * np.dot(dZ[i-1], A[i-2].T)\n",
    "            db[i-1] = 1. / m * np.sum(dZ[i-1], axis = 1, keepdims = True)        \n",
    "        \n",
    "        grads = {\"dZ\" : dZ, \"dW\" : dW, \"db\" : db}\n",
    "        return grads\n",
    "    \n",
    "    def __update_parameters(self, grads):\n",
    "        W = self.parameters[\"W\"]\n",
    "        b = self.parameters[\"b\"]\n",
    "\n",
    "        dW = grads[\"dW\"]\n",
    "        db = grads[\"db\"]\n",
    "        \n",
    "        for i in range(self.n_layers):\n",
    "            W[i] = W[i] - self.learning_rate * dW[i]\n",
    "            b[i] = b[i] - self.learning_rate * db[i]\n",
    "\n",
    "        \n",
    "    def fit(self, X_vert, Y_vert, print_cost = True):\n",
    "        self.n_iter = 0\n",
    "        X, Y = X_vert.T, Y_vert.T\n",
    "        \n",
    "        if self.normalize:\n",
    "            X, self.__mean, self.__std = self.__normalize(X)\n",
    "        \n",
    "        costs = []\n",
    "        \n",
    "        m = X.shape[1]\n",
    "        n_x = X.shape[0]\n",
    "        \n",
    "        self.__initialize_parameters(n_x)\n",
    "\n",
    "        for i in range(self.num_iter):\n",
    "            self.n_iter = i\n",
    "            A, cache = self.__forward_propagation(X)\n",
    "\n",
    "            cost = self.compute_cost(A, Y)\n",
    "            costs.append(cost)\n",
    "\n",
    "            grads = self.__backward_propagation(X, Y, cache)\n",
    "\n",
    "            self.__update_parameters(grads)\n",
    "            \n",
    "            if print_cost and i % 1000 == 0:\n",
    "                print(\"{}-th iteration: {}\".format(i, cost))\n",
    "                \n",
    "            if i > 1 and abs(cost-costs[-2]) < self.accuracy:\n",
    "                break\n",
    "\n",
    "        if print_cost:\n",
    "            plt.plot(costs)\n",
    "            plt.ylabel(\"Cost\")\n",
    "            plt.xlabel(\"Iteration, *1000\")\n",
    "            plt.show()\n",
    "    \n",
    "    def predict_proba(self, X_vert):\n",
    "        X = X_vert.T\n",
    "        if self.normalize:\n",
    "            X, _, _ = self.__normalize(X, self.__mean, self.__std)\n",
    "        \n",
    "        probs = self.__forward_propagation(X)[0]\n",
    "        \n",
    "        return np.column_stack((probs.T, 1 - probs.T))\n",
    "    \n",
    "    def predict(self, X_vert):\n",
    "        positive_probs = self.predict_proba(X_vert)[:, 0]\n",
    "        return (positive_probs >= 0.5).astype(int)   \n"
   ]
  },
  {
   "cell_type": "markdown",
   "metadata": {},
   "source": [
    "Спочатку спробуйте цей клас на одній задачі, а потім на іншій."
   ]
  },
  {
   "cell_type": "code",
   "execution_count": 343,
   "metadata": {},
   "outputs": [],
   "source": [
    "#data_columns = [\"exam1\", \"exam2\"]\n",
    "#target_column = \"submitted\"\n",
    "#df = pd.read_csv(\"sats.csv\")\n",
    "#X, Y = df[data_columns].values, df[target_column].reshape((df.shape[0], 1))\n",
    "#print('Training set: X={}, y={}'.format(X.shape, Y.shape))"
   ]
  },
  {
   "cell_type": "code",
   "execution_count": 344,
   "metadata": {},
   "outputs": [
    {
     "name": "stdout",
     "output_type": "stream",
     "text": [
      "Training set: X=(118, 2), y=(118,)\n"
     ]
    }
   ],
   "source": [
    "data_columns = [\"test1\", \"test2\"]\n",
    "target_column = \"passed\"\n",
    "df = pd.read_csv(\"tests.csv\")\n",
    "X, Y = df[data_columns].values, df[target_column]\n",
    "print('Training set: X={}, y={}'.format(X.shape, Y.shape))"
   ]
  },
  {
   "cell_type": "code",
   "execution_count": null,
   "metadata": {},
   "outputs": [],
   "source": []
  },
  {
   "cell_type": "code",
   "execution_count": 345,
   "metadata": {},
   "outputs": [
    {
     "data": {
      "image/png": "[encoded data removed]",
      "text/plain": [
       "<Figure size 432x288 with 1 Axes>"
      ]
     },
     "metadata": {
      "needs_background": "light"
     },
     "output_type": "display_data"
    }
   ],
   "source": [
    "plot_data(X, Y)"
   ]
  },
  {
   "cell_type": "code",
   "execution_count": 367,
   "metadata": {},
   "outputs": [],
   "source": [
    "cls = NeuralNet(\n",
    "    accuracy=1e-12,\n",
    "    hidden_layer_sizes=(20,15), \n",
    "    normalize = True, \n",
    "    learning_rate = 0.52, \n",
    "    num_iter = 14001)"
   ]
  },
  {
   "cell_type": "code",
   "execution_count": 368,
   "metadata": {
    "scrolled": true
   },
   "outputs": [
    {
     "name": "stdout",
     "output_type": "stream",
     "text": [
      "0-th iteration: 0.6930247290928906\n",
      "1000-th iteration: 0.693003405612414\n",
      "2000-th iteration: 0.6930032620434847\n",
      "3000-th iteration: 0.6930030553700182\n",
      "4000-th iteration: 0.6930027247541808\n",
      "5000-th iteration: 0.6930021429672341\n",
      "6000-th iteration: 0.693001004100446\n",
      "7000-th iteration: 0.6929984346540562\n",
      "8000-th iteration: 0.6929912489315059\n",
      "9000-th iteration: 0.6929621697845946\n",
      "10000-th iteration: 0.6927104631163233\n",
      "11000-th iteration: 0.6893617527506413\n",
      "12000-th iteration: 0.6606372812262632\n",
      "13000-th iteration: 0.3949656408906559\n",
      "14000-th iteration: 0.3314513135175637\n"
     ]
    },
    {
     "data": {
      "image/png": "[encoded data removed]",
      "text/plain": [
       "<Figure size 432x288 with 1 Axes>"
      ]
     },
     "metadata": {
      "needs_background": "light"
     },
     "output_type": "display_data"
    }
   ],
   "source": [
    "cls.fit(X, Y.values.reshape((df.shape[0], 1)))"
   ]
  },
  {
   "cell_type": "code",
   "execution_count": 369,
   "metadata": {},
   "outputs": [
    {
     "name": "stdout",
     "output_type": "stream",
     "text": [
      "{'W': [array([[-0.54445644, -0.41254114],\n",
      "       [-0.54650346, -0.41603407],\n",
      "       [ 0.52500011,  0.32081625],\n",
      "       [ 0.51857156,  0.33358165],\n",
      "       [-0.48494369, -0.38253239],\n",
      "       [ 0.52269332,  0.34347409],\n",
      "       [ 0.51134749,  0.33924457],\n",
      "       [-0.62232901, -0.4507765 ],\n",
      "       [-0.51296459, -0.37739892],\n",
      "       [-0.51226364, -0.3793178 ],\n",
      "       [ 0.09332265, -2.28894494],\n",
      "       [ 0.25280967,  0.30611884],\n",
      "       [ 0.85699432, -0.43407871],\n",
      "       [-0.87064953,  0.77786112],\n",
      "       [ 0.50864175,  0.36965667],\n",
      "       [-0.58659789, -0.42242469],\n",
      "       [ 0.52767904,  0.31192321],\n",
      "       [ 0.53131778,  0.30735616],\n",
      "       [-0.08294706,  0.07491641],\n",
      "       [ 0.38475885,  0.14101375]]), array([[-1.88776941e-01, -1.75386981e-01,  4.84104279e-01,\n",
      "         4.41577043e-01, -2.60604158e-01,  4.18756165e-01,\n",
      "         4.27166807e-01, -8.36138141e-01, -5.49473951e-01,\n",
      "        -4.36777354e-01, -3.09692831e+00,  1.81430014e-01,\n",
      "         1.96802900e+00, -1.72351901e+00,  2.76063563e-01,\n",
      "        -7.56160899e-01,  5.67380806e-01,  5.78746850e-01,\n",
      "         2.07992478e-02,  2.79922706e-01],\n",
      "       [-2.01192944e-01, -2.14479762e-01,  1.76408249e-01,\n",
      "         1.13886291e-01, -8.31583215e-02,  6.81811725e-02,\n",
      "         1.56761267e-01, -1.70322582e-01, -2.29779838e-01,\n",
      "        -2.12612787e-01,  9.13931774e-01, -3.58553145e-02,\n",
      "        -5.04853725e-01,  5.22490276e-01,  1.12483153e-01,\n",
      "        -1.65855843e-01,  1.31037728e-01,  1.51720343e-01,\n",
      "        -3.96692870e-02, -9.96855644e-02],\n",
      "       [-1.44173265e-01, -1.59889472e-01,  1.07175487e-01,\n",
      "         5.96225276e-02, -4.20490599e-02,  8.06903564e-03,\n",
      "         6.99932349e-02, -1.02298109e-01, -1.69533860e-01,\n",
      "        -1.57612354e-01,  7.93459376e-01, -6.28815953e-02,\n",
      "        -4.80851908e-01,  4.25488039e-01,  4.86049551e-02,\n",
      "        -1.38070364e-01,  8.53581751e-02,  9.80588856e-02,\n",
      "        -7.13490831e-03, -8.06384419e-02],\n",
      "       [ 5.61064648e-01,  5.72705696e-01, -6.35925210e-01,\n",
      "        -5.52271177e-01,  2.86710376e-01, -4.41273260e-01,\n",
      "        -5.72105179e-01,  5.71062501e-01,  6.30200546e-01,\n",
      "         5.94796420e-01, -1.52855370e+00, -1.07049490e-01,\n",
      "         5.36665414e-01, -8.04764381e-01, -5.19452729e-01,\n",
      "         5.68557582e-01, -5.96664051e-01, -6.13222523e-01,\n",
      "         1.19637756e-02, -4.66170578e-02],\n",
      "       [ 3.51623175e-01,  3.66198343e-01, -4.00175762e-01,\n",
      "        -3.41230349e-01,  1.71015542e-01, -2.79180067e-01,\n",
      "        -3.60371052e-01,  3.31078819e-01,  3.91252112e-01,\n",
      "         3.82580785e-01, -1.05424391e+00, -7.07925077e-02,\n",
      "         4.94435140e-01, -6.60009481e-01, -3.37561803e-01,\n",
      "         3.33788736e-01, -3.80963291e-01, -3.68544096e-01,\n",
      "         6.64884786e-04, -1.29201079e-02],\n",
      "       [-5.52858015e-01, -5.35657340e-01,  5.93204011e-01,\n",
      "         5.64506153e-01, -5.83552905e-01,  5.64796718e-01,\n",
      "         5.51812813e-01, -1.23057919e+00, -9.14782193e-01,\n",
      "        -8.13066538e-01, -3.45196234e+00,  2.56692825e-01,\n",
      "         1.88701675e+00, -1.76023131e+00,  4.45000021e-01,\n",
      "        -1.13297333e+00,  6.84793620e-01,  6.89017926e-01,\n",
      "        -7.89155914e-02,  2.82882284e-01],\n",
      "       [-4.72643474e-01, -4.60923306e-01,  4.93619781e-01,\n",
      "         3.87020530e-01, -2.30107138e-01,  3.14647551e-01,\n",
      "         4.48183352e-01, -4.46863301e-01, -4.93662680e-01,\n",
      "        -4.71372955e-01,  1.37148552e+00,  5.46131800e-02,\n",
      "        -5.74319231e-01,  7.24984191e-01,  3.97322476e-01,\n",
      "        -4.33685641e-01,  4.54423750e-01,  4.39239113e-01,\n",
      "        -1.34140119e-04,  1.00104921e-02],\n",
      "       [ 6.89902034e-01,  6.93645303e-01, -5.41104211e-01,\n",
      "        -4.45401493e-01,  4.26518271e-01, -3.49738927e-01,\n",
      "        -4.92466959e-01,  5.89756515e-01,  6.85012032e-01,\n",
      "         6.80394654e-01, -2.17148640e+00,  5.53120705e-03,\n",
      "         1.05863487e+00, -1.15980190e+00, -4.46839630e-01,\n",
      "         5.89924849e-01, -4.90976877e-01, -5.10639706e-01,\n",
      "         7.55402184e-02,  3.27262334e-02],\n",
      "       [-4.75661004e-01, -4.74943618e-01,  4.86546011e-01,\n",
      "         3.93383965e-01, -2.39970598e-01,  3.28772313e-01,\n",
      "         4.35470763e-01, -4.41264874e-01, -4.88361631e-01,\n",
      "        -4.92522629e-01,  1.37162839e+00,  6.35382103e-02,\n",
      "        -5.99852812e-01,  7.57822791e-01,  3.82893248e-01,\n",
      "        -4.17165157e-01,  4.46336154e-01,  4.48857281e-01,\n",
      "        -2.43741832e-02,  1.72155951e-03],\n",
      "       [ 2.58366312e-01,  2.56805789e-01, -2.90188670e-01,\n",
      "        -2.04679833e-01,  9.27247813e-02, -1.46912491e-01,\n",
      "        -2.62492250e-01,  2.23857363e-01,  2.81315952e-01,\n",
      "         2.52585404e-01, -8.79475230e-01, -9.69832865e-03,\n",
      "         4.67539168e-01, -5.58700983e-01, -2.06678162e-01,\n",
      "         2.27663449e-01, -2.57666675e-01, -2.55615290e-01,\n",
      "        -1.55857230e-02,  3.23207898e-02],\n",
      "       [ 1.00154099e-02, -2.47551234e-02,  1.76426678e-02,\n",
      "         2.62252288e-02, -2.76726212e-03,  2.78829084e-02,\n",
      "         8.15871006e-03, -1.04773737e-02, -9.68601952e-03,\n",
      "        -4.13476759e-03,  4.39016139e-02,  5.21400457e-03,\n",
      "         5.42185302e-03, -9.53992670e-03,  1.82688086e-02,\n",
      "         6.86159508e-03,  1.74693386e-02,  8.57825245e-03,\n",
      "        -1.54376616e-02,  6.17827780e-03],\n",
      "       [-1.41305824e-01, -1.39146971e-01,  1.12994475e-01,\n",
      "         5.42647811e-02, -5.28828974e-02,  2.38931179e-03,\n",
      "         9.42408960e-02, -1.21893697e-01, -1.51894995e-01,\n",
      "        -1.64504002e-01,  7.88914738e-01, -5.86562421e-02,\n",
      "        -4.76149538e-01,  4.14736122e-01,  7.50779157e-02,\n",
      "        -1.20159164e-01,  8.97890500e-02,  7.68816336e-02,\n",
      "        -2.09075720e-02, -9.62089013e-02],\n",
      "       [ 5.82989117e-01,  5.77230570e-01, -6.42913829e-01,\n",
      "        -5.37965031e-01,  3.20032305e-01, -4.45097049e-01,\n",
      "        -5.59397788e-01,  5.86442368e-01,  6.35831950e-01,\n",
      "         6.19233526e-01, -1.59485362e+00, -9.46895489e-02,\n",
      "         5.59553059e-01, -8.37309200e-01, -5.19007475e-01,\n",
      "         5.85592585e-01, -6.23129831e-01, -6.10039479e-01,\n",
      "         1.91203186e-02, -5.06035175e-02],\n",
      "       [-1.47093156e-01, -1.49458542e-01, -4.36217174e-01,\n",
      "        -4.11946875e-01, -1.21531239e-01, -3.99544139e-01,\n",
      "        -3.98567942e-01,  2.26523600e-01,  5.40009715e-02,\n",
      "         6.97282016e-03,  2.41284819e+00, -2.39959057e-01,\n",
      "        -1.90741258e+00,  1.52234119e+00, -3.33289980e-01,\n",
      "         1.80506967e-01, -4.80079357e-01, -5.12322706e-01,\n",
      "        -1.80254084e-01, -3.35642480e-01],\n",
      "       [ 7.28865330e-01,  7.22436231e-01, -7.66523964e-01,\n",
      "        -6.37336110e-01,  4.28352256e-01, -5.10450503e-01,\n",
      "        -6.73780902e-01,  7.82943226e-01,  8.19256333e-01,\n",
      "         8.03082726e-01, -2.30631491e+00, -4.43442227e-02,\n",
      "         6.09542766e-01, -9.53184547e-01, -5.55962008e-01,\n",
      "         7.75774335e-01, -7.30525669e-01, -7.43451767e-01,\n",
      "         8.64045027e-02, -1.35175304e-02]]), array([[-5.67455868,  1.05540108,  0.88793714, -2.64441771, -1.77342185,\n",
      "        -5.97060034,  1.80391474, -3.22062952,  1.82524411, -1.46065581,\n",
      "        -0.16291377,  0.87657755, -2.72466474,  4.08357299, -3.7192658 ]])], 'b': [array([[-0.30813524],\n",
      "       [-0.32111151],\n",
      "       [ 0.42243731],\n",
      "       [ 0.22329609],\n",
      "       [ 0.02922628],\n",
      "       [ 0.05835684],\n",
      "       [ 0.32016765],\n",
      "       [ 0.43672062],\n",
      "       [-0.04589454],\n",
      "       [-0.13094747],\n",
      "       [ 3.92141764],\n",
      "       [-0.02266126],\n",
      "       [-1.92269473],\n",
      "       [ 2.6090917 ],\n",
      "       [ 0.28638622],\n",
      "       [ 0.32485135],\n",
      "       [ 0.27639133],\n",
      "       [ 0.28162961],\n",
      "       [ 0.0058692 ],\n",
      "       [-0.02114751]]), array([[ 0.23948766],\n",
      "       [-0.09621574],\n",
      "       [-0.10547509],\n",
      "       [ 0.0330887 ],\n",
      "       [ 0.03175773],\n",
      "       [ 0.060065  ],\n",
      "       [-0.05113348],\n",
      "       [ 0.21866215],\n",
      "       [-0.05586977],\n",
      "       [ 0.04619308],\n",
      "       [ 0.00578918],\n",
      "       [-0.10360686],\n",
      "       [ 0.03503755],\n",
      "       [-0.55685027],\n",
      "       [ 0.07965554]]), array([[-0.57400931]])]}\n"
     ]
    }
   ],
   "source": [
    "print(cls.parameters)"
   ]
  },
  {
   "cell_type": "code",
   "execution_count": 370,
   "metadata": {},
   "outputs": [
    {
     "data": {
      "text/plain": [
       "array([[0.05009886, 0.94990114],\n",
       "       [0.15445788, 0.84554212],\n",
       "       [0.03508346, 0.96491654],\n",
       "       [0.05822888, 0.94177112],\n",
       "       [0.87922103, 0.12077897],\n",
       "       [0.98879327, 0.01120673],\n",
       "       [0.54719665, 0.45280335],\n",
       "       [0.68451193, 0.31548807],\n",
       "       [0.06031484, 0.93968516],\n",
       "       [0.21479601, 0.78520399],\n",
       "       [0.03041887, 0.96958113],\n",
       "       [0.15883178, 0.84116822],\n",
       "       [0.89357223, 0.10642777],\n",
       "       [0.00936927, 0.99063073],\n",
       "       [0.33689918, 0.66310082],\n",
       "       [0.4884027 , 0.5115973 ],\n",
       "       [0.0327815 , 0.9672185 ],\n",
       "       [0.99334229, 0.00665771],\n",
       "       [0.04477864, 0.95522136],\n",
       "       [0.91354824, 0.08645176],\n",
       "       [0.81677494, 0.18322506],\n",
       "       [0.07333536, 0.92666464],\n",
       "       [0.17025569, 0.82974431],\n",
       "       [0.31991321, 0.68008679]])"
      ]
     },
     "execution_count": 370,
     "metadata": {},
     "output_type": "execute_result"
    }
   ],
   "source": [
    "Y_prob = cls.predict_proba(X_test)\n",
    "Y_prob"
   ]
  },
  {
   "cell_type": "code",
   "execution_count": 371,
   "metadata": {},
   "outputs": [
    {
     "data": {
      "text/plain": [
       "array([0, 0, 0, 0, 1, 1, 1, 1, 0, 0, 0, 0, 1, 0, 0, 0, 0, 1, 0, 1, 1, 0,\n",
       "       0, 0])"
      ]
     },
     "execution_count": 371,
     "metadata": {},
     "output_type": "execute_result"
    }
   ],
   "source": [
    "Y_hat = cls.predict(X_test)\n",
    "Y_hat"
   ]
  },
  {
   "cell_type": "code",
   "execution_count": 372,
   "metadata": {},
   "outputs": [
    {
     "data": {
      "text/plain": [
       "0.875"
      ]
     },
     "execution_count": 372,
     "metadata": {},
     "output_type": "execute_result"
    }
   ],
   "source": [
    "accuracy_score(y_test, Y_hat)"
   ]
  },
  {
   "cell_type": "code",
   "execution_count": 373,
   "metadata": {},
   "outputs": [
    {
     "data": {
      "image/png": "[encoded data removed]",
      "text/plain": [
       "<Figure size 432x288 with 1 Axes>"
      ]
     },
     "metadata": {
      "needs_background": "light"
     },
     "output_type": "display_data"
    }
   ],
   "source": [
    "plot_data(X, Y)\n",
    "plot_surface(cls, X[:, 0], X[:, 1])"
   ]
  },
  {
   "cell_type": "markdown",
   "metadata": {},
   "source": [
    "Зверніть увагу на границю прийняття рішення. Модель старається побудувати складну криву, що може свідчити про її перетренування. Порівняйте отримані результати з класом з sklearn. Спробуйте додати нові шари для нашого класу та порівняти результати тоді. Поекспериментуйте з гіперпараметрами для обох класів."
   ]
  },
  {
   "cell_type": "code",
   "execution_count": 15,
   "metadata": {},
   "outputs": [],
   "source": [
    "from sklearn.neural_network import MLPClassifier\n",
    "clf = MLPClassifier(hidden_layer_sizes = (20,), max_iter = 10000, activation = 'relu', solver = 'sgd', learning_rate_init = 0.01, learning_rate = 'constant')"
   ]
  },
  {
   "cell_type": "code",
   "execution_count": 16,
   "metadata": {},
   "outputs": [
    {
     "data": {
      "text/plain": [
       "MLPClassifier(activation='relu', alpha=0.0001, batch_size='auto', beta_1=0.9,\n",
       "       beta_2=0.999, early_stopping=False, epsilon=1e-08,\n",
       "       hidden_layer_sizes=(20,), learning_rate='constant',\n",
       "       learning_rate_init=0.01, max_iter=10000, momentum=0.9,\n",
       "       n_iter_no_change=10, nesterovs_momentum=True, power_t=0.5,\n",
       "       random_state=None, shuffle=True, solver='sgd', tol=0.0001,\n",
       "       validation_fraction=0.1, verbose=False, warm_start=False)"
      ]
     },
     "execution_count": 16,
     "metadata": {},
     "output_type": "execute_result"
    }
   ],
   "source": [
    "clf.fit(X, Y)"
   ]
  },
  {
   "cell_type": "code",
   "execution_count": 17,
   "metadata": {},
   "outputs": [
    {
     "data": {
      "image/png": "[encoded data removed]",
      "text/plain": [
       "<Figure size 432x288 with 1 Axes>"
      ]
     },
     "metadata": {
      "needs_background": "light"
     },
     "output_type": "display_data"
    }
   ],
   "source": [
    "plot_data(X, Y)\n",
    "plot_surface(clf, X[:, 0], X[:, 1])"
   ]
  },
  {
   "cell_type": "code",
   "execution_count": 18,
   "metadata": {},
   "outputs": [
    {
     "data": {
      "text/plain": [
       "0.8389830508474576"
      ]
     },
     "execution_count": 18,
     "metadata": {},
     "output_type": "execute_result"
    }
   ],
   "source": [
    "accuracy_score(Y, clf.predict(X))"
   ]
  },
  {
   "cell_type": "code",
   "execution_count": null,
   "metadata": {
    "collapsed": true
   },
   "outputs": [],
   "source": []
  }
 ],
 "metadata": {
  "anaconda-cloud": {},
  "kernelspec": {
   "display_name": "Python 3",
   "language": "python",
   "name": "python3"
  },
  "language_info": {
   "codemirror_mode": {
    "name": "ipython",
    "version": 3
   },
   "file_extension": ".py",
   "mimetype": "text/x-python",
   "name": "python",
   "nbconvert_exporter": "python",
   "pygments_lexer": "ipython3",
   "version": "3.8.1"
  }
 },
 "nbformat": 4,
 "nbformat_minor": 1
}
