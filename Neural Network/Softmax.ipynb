{
 "cells": [
  {
   "cell_type": "markdown",
   "metadata": {},
   "source": [
    "В цій практичній роботі ми спробуємо реалізувати нейронну мережу з двох шарів (прихований і вихідний). Запропонований підхід стане заготовкою для реалізації наступних оптимізацій: MBGD, ADAM та регуляризації. \n",
    "\n",
    "Сьогодні ж вам пропонується додати до цього класу підтримку довільної кількості шарів та нейронів в них (наприклад, передавати їх параметром в конструктор, як це робиться в MLPClassifier за допомогою hidden_layer_sizes). Також потрібно передбачити можливість ранньої зупинки ітераційного процесу, якщо значення штрафної функції не покращуватиметься протягом певної кількості ітерацій. Наприклад, якщо протягом $k$ ітерацій штрафна функція за модулем не стане меншою, ніж на поточному кроці."
   ]
  },
  {
   "cell_type": "code",
   "execution_count": 2,
   "metadata": {},
   "outputs": [],
   "source": [
    "import numpy as np\n",
    "import pandas as pd\n",
    "from sklearn.model_selection import train_test_split\n",
    "from mpl_toolkits.mplot3d import Axes3D\n",
    "import matplotlib.pyplot as plt\n",
    "\n",
    "from matplotlib.colors import ListedColormap\n",
    "cm_bright = ListedColormap(['#FF0000', '#0000FF'])\n",
    "%matplotlib inline\n",
    "from sklearn.metrics import accuracy_score\n",
    "\n",
    "import sklearn.linear_model"
   ]
  },
  {
   "cell_type": "code",
   "execution_count": 3,
   "metadata": {},
   "outputs": [],
   "source": [
    "def plot_surface(cls, x_1, x_2, ax=None, threshold=0.5, contourf=False):\n",
    "    xx1, xx2 = np.meshgrid(np.linspace(x_1.min(), x_1.max(), 100), \n",
    "                           np.linspace(x_2.min(), x_2.max(), 100))\n",
    "\n",
    "    X_pred = np.c_[xx1.ravel(), xx2.ravel()]\n",
    "    pred = cls.predict_proba(X_pred)[:, 0]\n",
    "    Z = pred.reshape((100, 100))\n",
    "    if ax is None:\n",
    "        ax = plt.gca()\n",
    "    ax.contour(xx1, xx2, Z, levels=[threshold], colors='black')\n",
    "    ax.set_xlim((x_1.min(), x_1.max()))\n",
    "    ax.set_ylim((x_2.min(), x_2.max()))"
   ]
  },
  {
   "cell_type": "code",
   "execution_count": 4,
   "metadata": {},
   "outputs": [],
   "source": [
    "def plot_data(X, y):\n",
    "    ax = plt.gca()\n",
    "    ax.scatter(X[:,0], X[:,1], c=(y == 1), cmap=cm_bright)"
   ]
  },
  {
   "cell_type": "code",
   "execution_count": 73,
   "metadata": {},
   "outputs": [],
   "source": [
    "class NeuralNet:\n",
    "    \"\"\"\n",
    "    NN for binary classification\n",
    "    Attributes:\n",
    "    ...\n",
    "    \"\"\"\n",
    "    \n",
    "    def __init__(self, normalize = True, learning_rate = 0.01, num_iter = 30000,num_node=[20,1],accuracy=0.00001):\n",
    "        self.learning_rate = learning_rate\n",
    "        self.num_iter = num_iter\n",
    "        self.normalize = normalize\n",
    "        self.num_layer=len(num_node)\n",
    "        self.num_node=num_node\n",
    "        self.accuracy=accuracy\n",
    "        self.W=None\n",
    "        self.b=None\n",
    "        self.Z=None\n",
    "        self.A=None\n",
    "        self.dW=None\n",
    "        self.db=None\n",
    "        self.dZ=None\n",
    "        self.dA=None\n",
    "    \n",
    "    def __normalize(self, X, mean = None, std = None):\n",
    "        \"\"\"\n",
    "        Зверніть увагу, що нормалізація вхідних даних є дуже важливою для швидкодії нейронних мереж.\n",
    "        \"\"\"\n",
    "        n = X.shape[0]\n",
    "        m = mean\n",
    "        if m is None:\n",
    "            m = np.mean(X, axis=1).reshape((n, 1))\n",
    "        s = std\n",
    "        if s is None:\n",
    "            s = np.std(X, axis=1).reshape((n, 1))\n",
    "        X_new = (X - m) / s**2\n",
    "        return X_new, m, s\n",
    "\n",
    "    def __sigmoid(self, Z):\n",
    "        \"\"\"\n",
    "        В наступних практичних потрібно буде додати підтримку й інших активаційних функцій - це один з гіперпараметрів. \n",
    "        Їх можна вибирати для всіх шарів одночасно або мати різні активаційні функції на кожному з них.\n",
    "        \"\"\"\n",
    "        return 1 / (1 + np.exp(-Z))\n",
    "    \n",
    "    \n",
    "    def __softmax(self, Z):\n",
    "        return np.exp(Z) / np.sum(np.exp(Z)) \n",
    "    \n",
    "    def __initialize_parameters(self, n_x):\n",
    "        \n",
    "        \n",
    "        self.W=[]\n",
    "        self.W.append(list(np.random.randn(self.num_node[0], n_x)/np.sqrt(n_x)))\n",
    "        self.b=[np.zeros((self.num_node[i], 1)) for i in range(self.num_layer)]\n",
    "        self.W=self.W+[list((np.random.randn(self.num_node[i],self.num_node[i-1])/\n",
    "                             np.sqrt(self.num_node[i-1]))) for i in range(1,self.num_layer)]\n",
    "\n",
    "       \n",
    "    def __forward_propagation(self, X):\n",
    "\n",
    "        self.Z=[]\n",
    "        self.A=[]\n",
    "        self.Z.append(np.dot(self.W[0], X) + self.b[0])\n",
    "        self.A.append(self.__sigmoid(self.Z[0]))\n",
    "\n",
    "        for i in range(1,len(self.W)-1):\n",
    "            self.Z.append(np.dot(self.W[i], self.A[i-1]) + self.b[i])\n",
    "            self.A.append(self.__softmax(self.Z[i]))\n",
    "            \n",
    "        self.Z.append(np.dot(self.W[-1], self.A[-1]) + self.b[-1])\n",
    "        self.A.append(self.__sigmoid(self.Z[-1]))\n",
    "        \n",
    "        return self.A[-1]\n",
    "    \n",
    "    def compute_cost(self, A, Y):\n",
    "        J = -np.mean(Y.T * np.log(A.T+ 1e-8))\n",
    "        return J\n",
    "        \n",
    "    def __backward_propagation(self, X, Y):\n",
    "        m = X.shape[1]\n",
    "        n = X.shape[0]\n",
    "        W, b,Z, A=self.W,self.b,self.Z,self.A\n",
    "\n",
    "      \n",
    "        self.dW,self.db,self.dZ,self.dA=[],[],[],[]\n",
    "        self.dZ.append(A[-1] - Y)\n",
    "        self.dW.append(1. / m * np.dot(self.dZ[-1], A[-2].T))\n",
    "        self.db.append(1. / m * np.sum(self.dZ[-1], axis = 1, keepdims = True))\n",
    "        self.dA.append(np.dot(np.array(W[-1]).T, self.dZ[-1]))       \n",
    "\n",
    "\n",
    "            \n",
    "\n",
    "        for i in range(self.num_layer-1):\n",
    "            self.dZ.append(np.multiply(self.dA[i], np.multiply(A[self.num_layer-2-i], 1 - A[self.num_layer-2-i])))\n",
    "            if(self.num_layer-3-i>=0):\n",
    "                self.dW.append( 1. / m * np.dot(self.dZ[i+1], A[self.num_layer-3-i].T))\n",
    "            else:\n",
    "                self.dW.append( 1. / m * np.dot(self.dZ[i+1], X.T))\n",
    "            self.db.append( 1. / m * np.sum(self.dZ[i+1], axis = 1, keepdims = True))\n",
    "            self.dA.append(np.dot(np.array(W[self.num_layer-2-i]).T, self.dZ[i+1]))\n",
    "       \n",
    "        self.dW.reverse()\n",
    "        self.db.reverse()\n",
    "        self.dZ.reverse()\n",
    "        self.dA.reverse()\n",
    "\n",
    "    \n",
    "    def __update_parameters(self):\n",
    "        \n",
    "        for i in range(self.num_layer):\n",
    "            self.W[i] = self.W[i] - self.learning_rate * self.dW[i]\n",
    "            self.b[i] = self.b[i] - self.learning_rate * self.db[i]\n",
    "\n",
    "        \n",
    "    def fit(self, X_vert, Y_vert, print_cost = True):\n",
    "        \n",
    "        X, Y = X_vert.T, Y_vert.T\n",
    "        \n",
    "        if self.normalize:\n",
    "            X, self.__mean, self.__std = self.__normalize(X)\n",
    "        \n",
    "        costs = []\n",
    "        check = []\n",
    "        m = X.shape[1]\n",
    "        n_x = X.shape[0]\n",
    "        \n",
    "        self.__initialize_parameters(n_x)\n",
    " \n",
    "        for i in range(self.num_iter):\n",
    "            A = self.__forward_propagation(X)\n",
    "\n",
    "            cost = self.compute_cost(A, Y)\n",
    "            self.__backward_propagation(X, Y)\n",
    "\n",
    "            self.__update_parameters()\n",
    "        \n",
    "            check.append(cost)\n",
    "            if print_cost and i % 1000 == 0:\n",
    "                print(\"{}-th iteration: {}\".format(i, cost))\n",
    "\n",
    "            if i % 10 == 0:\n",
    "                costs.append(cost)\n",
    "                \n",
    "            if(len(check)>2 and abs(check[i]-check[i-1])<self.accuracy):\n",
    "                break\n",
    "\n",
    "        if print_cost:\n",
    "            plt.plot(costs)\n",
    "            plt.ylabel(\"Cost\")\n",
    "            plt.xlabel(\"Iteration, *1000\")\n",
    "            plt.show()\n",
    "    \n",
    "    def predict_proba(self, X_vert):\n",
    "        X = X_vert.T\n",
    "        if self.normalize:\n",
    "            X, _, _ = self.__normalize(X, self.__mean, self.__std)\n",
    "        \n",
    "        probs = self.__forward_propagation(X)[0]\n",
    "        \n",
    "        return np.column_stack((probs.T, 1 - probs.T))\n",
    "    \n",
    "    def predict(self, X_vert):\n",
    "        positive_probs = self.predict_proba(X_vert)[:, 0]\n",
    "        return (positive_probs >= 0.5).astype(int)   \n"
   ]
  },
  {
   "cell_type": "markdown",
   "metadata": {},
   "source": [
    "Спочатку спробуйте цей клас на одній задачі, а потім на іншій."
   ]
  },
  {
   "cell_type": "code",
   "execution_count": 74,
   "metadata": {},
   "outputs": [],
   "source": [
    "#data_columns = [\"exam1\", \"exam2\"]\n",
    "#target_column = \"submitted\"\n",
    "#df = pd.read_csv(\"sats.csv\")\n",
    "#X, Y = df[data_columns].values, df[target_column].reshape((df.shape[0], 1))\n",
    "#print('Training set: X={}, y={}'.format(X.shape, Y.shape))"
   ]
  },
  {
   "cell_type": "code",
   "execution_count": 76,
   "metadata": {},
   "outputs": [
    {
     "name": "stdout",
     "output_type": "stream",
     "text": [
      "Training set: X=(118, 2), y=(118,)\n"
     ]
    }
   ],
   "source": [
    "data_columns = [\"test1\", \"test2\"]\n",
    "target_column = \"passed\"\n",
    "df = pd.read_csv(\"tests.csv\")\n",
    "X, Y = df[data_columns].values, df[target_column]\n",
    "print('Training set: X={}, y={}'.format(X.shape, Y.shape))"
   ]
  },
  {
   "cell_type": "code",
   "execution_count": 77,
   "metadata": {},
   "outputs": [
    {
     "data": {
      "image/png": "[encoded data removed]",
      "text/plain": [
       "<Figure size 432x288 with 1 Axes>"
      ]
     },
     "metadata": {
      "needs_background": "light"
     },
     "output_type": "display_data"
    }
   ],
   "source": [
    "plot_data(X, Y)"
   ]
  },
  {
   "cell_type": "code",
   "execution_count": 84,
   "metadata": {},
   "outputs": [],
   "source": [
    "cls = NeuralNet(normalize = True, \n",
    "                learning_rate = 0.5, \n",
    "                num_iter = 3000,\n",
    "                num_node=[8,15,],\n",
    "                accuracy=1e-10)\n"
   ]
  },
  {
   "cell_type": "code",
   "execution_count": 85,
   "metadata": {},
   "outputs": [
    {
     "name": "stdout",
     "output_type": "stream",
     "text": [
      "0-th iteration: 0.33470370233440033\n",
      "1000-th iteration: 0.15803445708294814\n",
      "2000-th iteration: 0.1391942062923917\n"
     ]
    },
    {
     "data": {
      "image/png": "[encoded data removed]",
      "text/plain": [
       "<Figure size 432x288 with 1 Axes>"
      ]
     },
     "metadata": {
      "needs_background": "light"
     },
     "output_type": "display_data"
    }
   ],
   "source": [
    "cls.fit(X, Y.values.reshape((df.shape[0], 1)))"
   ]
  },
  {
   "cell_type": "code",
   "execution_count": 86,
   "metadata": {},
   "outputs": [
    {
     "data": {
      "text/plain": [
       "array([[9.92737595e-01, 7.26240502e-03],\n",
       "       [9.43837613e-01, 5.61623875e-02],\n",
       "       [9.90483781e-01, 9.51621899e-03],\n",
       "       [9.98790351e-01, 1.20964931e-03],\n",
       "       [9.67055405e-01, 3.29445946e-02],\n",
       "       [9.85073118e-01, 1.49268820e-02],\n",
       "       [9.49543673e-01, 5.04563270e-02],\n",
       "       [7.89479544e-01, 2.10520456e-01],\n",
       "       [8.39218783e-01, 1.60781217e-01],\n",
       "       [7.42728486e-01, 2.57271514e-01],\n",
       "       [4.50758890e-01, 5.49241110e-01],\n",
       "       [4.80928424e-01, 5.19071576e-01],\n",
       "       [9.64500608e-01, 3.54993923e-02],\n",
       "       [4.51541117e-01, 5.48458883e-01],\n",
       "       [8.54376738e-01, 1.45623262e-01],\n",
       "       [8.28234170e-01, 1.71765830e-01],\n",
       "       [9.96323666e-01, 3.67633447e-03],\n",
       "       [8.44865673e-01, 1.55134327e-01],\n",
       "       [9.89709681e-01, 1.02903187e-02],\n",
       "       [6.78195903e-01, 3.21804097e-01],\n",
       "       [2.59136485e-01, 7.40863515e-01],\n",
       "       [7.65692486e-01, 2.34307514e-01],\n",
       "       [4.88152680e-01, 5.11847320e-01],\n",
       "       [9.81100412e-02, 9.01889959e-01],\n",
       "       [4.13938566e-01, 5.86061434e-01],\n",
       "       [4.00558433e-01, 5.99441567e-01],\n",
       "       [4.76127036e-01, 5.23872964e-01],\n",
       "       [4.51100853e-01, 5.48899147e-01],\n",
       "       [9.99278642e-01, 7.21357627e-04],\n",
       "       [8.86976782e-01, 1.13023218e-01],\n",
       "       [5.34929756e-01, 4.65070244e-01],\n",
       "       [9.49973276e-01, 5.00267243e-02],\n",
       "       [9.96630201e-01, 3.36979948e-03],\n",
       "       [9.99447793e-01, 5.52207002e-04],\n",
       "       [9.99501349e-01, 4.98651250e-04],\n",
       "       [9.62855215e-01, 3.71447845e-02],\n",
       "       [8.61156013e-01, 1.38843987e-01],\n",
       "       [9.50497954e-01, 4.95020459e-02],\n",
       "       [9.57870646e-01, 4.21293541e-02],\n",
       "       [9.42848512e-01, 5.71514879e-02],\n",
       "       [9.61130577e-01, 3.88694231e-02],\n",
       "       [9.92410977e-01, 7.58902281e-03],\n",
       "       [9.66785977e-01, 3.32140228e-02],\n",
       "       [9.99497666e-01, 5.02333697e-04],\n",
       "       [7.34729444e-01, 2.65270556e-01],\n",
       "       [8.90844443e-01, 1.09155557e-01],\n",
       "       [3.54536130e-01, 6.45463870e-01],\n",
       "       [9.73015159e-01, 2.69848410e-02],\n",
       "       [4.26478312e-01, 5.73521688e-01],\n",
       "       [3.62692297e-01, 6.37307703e-01],\n",
       "       [9.95146263e-01, 4.85373747e-03],\n",
       "       [9.99574382e-01, 4.25617977e-04],\n",
       "       [9.99233862e-01, 7.66137663e-04],\n",
       "       [9.99580068e-01, 4.19932254e-04],\n",
       "       [9.99531832e-01, 4.68168223e-04],\n",
       "       [9.98760742e-01, 1.23925801e-03],\n",
       "       [9.60942190e-01, 3.90578101e-02],\n",
       "       [8.80398997e-01, 1.19601003e-01],\n",
       "       [6.89103075e-02, 9.31089692e-01],\n",
       "       [1.26897890e-01, 8.73102110e-01],\n",
       "       [7.28758620e-01, 2.71241380e-01],\n",
       "       [8.03313784e-02, 9.19668622e-01],\n",
       "       [2.81717897e-02, 9.71828210e-01],\n",
       "       [4.12028648e-01, 5.87971352e-01],\n",
       "       [2.35949901e-01, 7.64050099e-01],\n",
       "       [2.30832685e-02, 9.76916732e-01],\n",
       "       [3.22090852e-02, 9.67790915e-01],\n",
       "       [2.29514144e-02, 9.77048586e-01],\n",
       "       [2.35005254e-02, 9.76499475e-01],\n",
       "       [2.92549585e-02, 9.70745042e-01],\n",
       "       [2.80082448e-02, 9.71991755e-01],\n",
       "       [4.92035607e-02, 9.50796439e-01],\n",
       "       [1.50724272e-01, 8.49275728e-01],\n",
       "       [2.54999126e-01, 7.45000874e-01],\n",
       "       [3.59927962e-01, 6.40072038e-01],\n",
       "       [4.58568107e-01, 5.41431893e-01],\n",
       "       [5.28573586e-01, 4.71426414e-01],\n",
       "       [4.24100749e-01, 5.75899251e-01],\n",
       "       [6.02466766e-03, 9.93975332e-01],\n",
       "       [3.59005616e-02, 9.64099438e-01],\n",
       "       [4.15705268e-01, 5.84294732e-01],\n",
       "       [1.47464951e-01, 8.52535049e-01],\n",
       "       [4.53776549e-02, 9.54622345e-01],\n",
       "       [1.60816973e-01, 8.39183027e-01],\n",
       "       [3.88256077e-03, 9.96117439e-01],\n",
       "       [9.38412254e-03, 9.90615877e-01],\n",
       "       [3.91592163e-02, 9.60840784e-01],\n",
       "       [3.34043026e-02, 9.66595697e-01],\n",
       "       [7.01836828e-01, 2.98163172e-01],\n",
       "       [3.90987075e-02, 9.60901292e-01],\n",
       "       [4.59480420e-03, 9.95405196e-01],\n",
       "       [4.72063509e-02, 9.52793649e-01],\n",
       "       [1.48789648e-01, 8.51210352e-01],\n",
       "       [7.14146381e-02, 9.28585362e-01],\n",
       "       [1.30727915e-01, 8.69272085e-01],\n",
       "       [4.91078079e-02, 9.50892192e-01],\n",
       "       [6.24453967e-02, 9.37554603e-01],\n",
       "       [8.09945181e-02, 9.19005482e-01],\n",
       "       [4.68210087e-03, 9.95317899e-01],\n",
       "       [2.89874935e-02, 9.71012506e-01],\n",
       "       [9.44056025e-02, 9.05594398e-01],\n",
       "       [2.24936001e-02, 9.77506400e-01],\n",
       "       [6.65819491e-02, 9.33418051e-01],\n",
       "       [4.10480089e-02, 9.58951991e-01],\n",
       "       [4.42989887e-01, 5.57010113e-01],\n",
       "       [5.21605289e-02, 9.47839471e-01],\n",
       "       [4.85225748e-01, 5.14774252e-01],\n",
       "       [9.45994627e-01, 5.40053727e-02],\n",
       "       [1.26952955e-01, 8.73047045e-01],\n",
       "       [1.91455465e-02, 9.80854454e-01],\n",
       "       [3.74818346e-02, 9.62518165e-01],\n",
       "       [1.17390903e-03, 9.98826091e-01],\n",
       "       [1.72369498e-02, 9.82763050e-01],\n",
       "       [2.57298955e-01, 7.42701045e-01],\n",
       "       [3.71293776e-03, 9.96287062e-01],\n",
       "       [6.53358800e-02, 9.34664120e-01],\n",
       "       [6.87640179e-01, 3.12359821e-01],\n",
       "       [6.35044079e-01, 3.64955921e-01]])"
      ]
     },
     "execution_count": 86,
     "metadata": {},
     "output_type": "execute_result"
    }
   ],
   "source": [
    "Y_prob = cls.predict_proba(X)\n",
    "Y_prob"
   ]
  },
  {
   "cell_type": "code",
   "execution_count": 87,
   "metadata": {},
   "outputs": [
    {
     "data": {
      "text/plain": [
       "array([1, 1, 1, 1, 1, 1, 1, 1, 1, 1, 0, 0, 1, 0, 1, 1, 1, 1, 1, 1, 0, 1,\n",
       "       0, 0, 0, 0, 0, 0, 1, 1, 1, 1, 1, 1, 1, 1, 1, 1, 1, 1, 1, 1, 1, 1,\n",
       "       1, 1, 0, 1, 0, 0, 1, 1, 1, 1, 1, 1, 1, 1, 0, 0, 1, 0, 0, 0, 0, 0,\n",
       "       0, 0, 0, 0, 0, 0, 0, 0, 0, 0, 1, 0, 0, 0, 0, 0, 0, 0, 0, 0, 0, 0,\n",
       "       1, 0, 0, 0, 0, 0, 0, 0, 0, 0, 0, 0, 0, 0, 0, 0, 0, 0, 0, 1, 0, 0,\n",
       "       0, 0, 0, 0, 0, 0, 1, 1])"
      ]
     },
     "execution_count": 87,
     "metadata": {},
     "output_type": "execute_result"
    }
   ],
   "source": [
    "Y_hat = cls.predict(X)\n",
    "Y_hat"
   ]
  },
  {
   "cell_type": "code",
   "execution_count": 88,
   "metadata": {},
   "outputs": [
    {
     "data": {
      "text/plain": [
       "0.8389830508474576"
      ]
     },
     "execution_count": 88,
     "metadata": {},
     "output_type": "execute_result"
    }
   ],
   "source": [
    "accuracy_score(Y, Y_hat)"
   ]
  },
  {
   "cell_type": "code",
   "execution_count": 89,
   "metadata": {},
   "outputs": [
    {
     "data": {
      "image/png": "[encoded data removed]",
      "text/plain": [
       "<Figure size 432x288 with 1 Axes>"
      ]
     },
     "metadata": {
      "needs_background": "light"
     },
     "output_type": "display_data"
    }
   ],
   "source": [
    "plot_data(X, Y)\n",
    "plot_surface(cls, X[:, 0], X[:, 1])"
   ]
  },
  {
   "cell_type": "markdown",
   "metadata": {},
   "source": [
    "Зверніть увагу на границю прийняття рішення. Модель старається побудувати складну криву, що може свідчити про її перетренування. Порівняйте отримані результати з класом з sklearn. Спробуйте додати нові шари для нашого класу та порівняти результати тоді. Поекспериментуйте з гіперпараметрами для обох класів."
   ]
  },
  {
   "cell_type": "code",
   "execution_count": 17,
   "metadata": {},
   "outputs": [],
   "source": [
    "from sklearn.neural_network import MLPClassifier\n",
    "clf = MLPClassifier(hidden_layer_sizes = (20,), max_iter = 10000, activation = 'relu', solver = 'sgd', learning_rate_init = 0.01, learning_rate = 'constant')"
   ]
  },
  {
   "cell_type": "code",
   "execution_count": 18,
   "metadata": {},
   "outputs": [
    {
     "data": {
      "text/plain": [
       "MLPClassifier(activation='relu', alpha=0.0001, batch_size='auto', beta_1=0.9,\n",
       "              beta_2=0.999, early_stopping=False, epsilon=1e-08,\n",
       "              hidden_layer_sizes=(20,), learning_rate='constant',\n",
       "              learning_rate_init=0.01, max_fun=15000, max_iter=10000,\n",
       "              momentum=0.9, n_iter_no_change=10, nesterovs_momentum=True,\n",
       "              power_t=0.5, random_state=None, shuffle=True, solver='sgd',\n",
       "              tol=0.0001, validation_fraction=0.1, verbose=False,\n",
       "              warm_start=False)"
      ]
     },
     "execution_count": 18,
     "metadata": {},
     "output_type": "execute_result"
    }
   ],
   "source": [
    "clf.fit(X, Y)"
   ]
  },
  {
   "cell_type": "code",
   "execution_count": 19,
   "metadata": {},
   "outputs": [
    {
     "data": {
      "image/png": "[encoded data removed]",
      "text/plain": [
       "<Figure size 432x288 with 1 Axes>"
      ]
     },
     "metadata": {
      "needs_background": "light"
     },
     "output_type": "display_data"
    }
   ],
   "source": [
    "plot_data(X, Y)\n",
    "plot_surface(clf, X[:, 0], X[:, 1])"
   ]
  },
  {
   "cell_type": "code",
   "execution_count": 20,
   "metadata": {},
   "outputs": [
    {
     "data": {
      "text/plain": [
       "0.864406779661017"
      ]
     },
     "execution_count": 20,
     "metadata": {},
     "output_type": "execute_result"
    }
   ],
   "source": [
    "accuracy_score(Y, clf.predict(X))"
   ]
  },
  {
   "cell_type": "code",
   "execution_count": null,
   "metadata": {},
   "outputs": [],
   "source": []
  },
  {
   "cell_type": "code",
   "execution_count": null,
   "metadata": {},
   "outputs": [],
   "source": []
  }
 ],
 "metadata": {
  "anaconda-cloud": {},
  "kernelspec": {
   "display_name": "Python 3",
   "language": "python",
   "name": "python3"
  },
  "language_info": {
   "codemirror_mode": {
    "name": "ipython",
    "version": 3
   },
   "file_extension": ".py",
   "mimetype": "text/x-python",
   "name": "python",
   "nbconvert_exporter": "python",
   "pygments_lexer": "ipython3",
   "version": "3.8.1"
  }
 },
 "nbformat": 4,
 "nbformat_minor": 1
}
